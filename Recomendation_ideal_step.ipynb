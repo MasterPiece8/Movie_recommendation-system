{
 "cells": [
  {
   "cell_type": "code",
   "execution_count": 2,
   "id": "957e6375",
   "metadata": {},
   "outputs": [
    {
     "name": "stdout",
     "output_type": "stream",
     "text": [
      "c:\\Users\\Bintang Purnama\\anaconda3\\python.exe\n"
     ]
    }
   ],
   "source": [
    "import sys\n",
    "print(sys.executable)"
   ]
  },
  {
   "cell_type": "code",
   "execution_count": 3,
   "id": "5447e7b8",
   "metadata": {},
   "outputs": [],
   "source": [
    "import pandas as pd\n",
    "import numpy as np\n",
    "import matplotlib.pyplot as plt\n",
    "import seaborn as sns\n",
    "from surprise import Dataset , Reader , SVD , accuracy\n",
    "from surprise.model_selection import train_test_split"
   ]
  },
  {
   "cell_type": "markdown",
   "id": "c14cee8c",
   "metadata": {},
   "source": []
  },
  {
   "cell_type": "code",
   "execution_count": 4,
   "id": "d0cc77a2",
   "metadata": {},
   "outputs": [
    {
     "name": "stdout",
     "output_type": "stream",
     "text": [
      "   user_id  item_id  rating  timestamp\n",
      "0      196      242       3  881250949\n",
      "1      186      302       3  891717742\n",
      "2       22      377       1  878887116\n",
      "3      244       51       2  880606923\n",
      "4      166      346       1  886397596\n"
     ]
    }
   ],
   "source": [
    "#tetnukan path ke file ke u.data\n",
    "data = 'ml-100k/u.data'\n",
    "#buat data frame menggunakan pandas\n",
    "df = pd.read_csv(data, sep='\\t', names=['user_id', 'item_id', 'rating', 'timestamp'])\n",
    "#cek 5 baris pertama data frame\n",
    "print(df.head())"
   ]
  },
  {
   "cell_type": "code",
   "execution_count": 5,
   "id": "abebc32f",
   "metadata": {},
   "outputs": [
    {
     "data": {
      "text/plain": [
       "(100000, 4)"
      ]
     },
     "execution_count": 5,
     "metadata": {},
     "output_type": "execute_result"
    }
   ],
   "source": [
    "df.shape"
   ]
  },
  {
   "cell_type": "code",
   "execution_count": 6,
   "id": "a4dabf09",
   "metadata": {},
   "outputs": [
    {
     "name": "stdout",
     "output_type": "stream",
     "text": [
      "<class 'pandas.core.frame.DataFrame'>\n",
      "RangeIndex: 100000 entries, 0 to 99999\n",
      "Data columns (total 4 columns):\n",
      " #   Column     Non-Null Count   Dtype\n",
      "---  ------     --------------   -----\n",
      " 0   user_id    100000 non-null  int64\n",
      " 1   item_id    100000 non-null  int64\n",
      " 2   rating     100000 non-null  int64\n",
      " 3   timestamp  100000 non-null  int64\n",
      "dtypes: int64(4)\n",
      "memory usage: 3.1 MB\n"
     ]
    }
   ],
   "source": [
    "df.info()"
   ]
  },
  {
   "cell_type": "code",
   "execution_count": 7,
   "id": "524a3087",
   "metadata": {},
   "outputs": [
    {
     "data": {
      "text/html": [
       "<div>\n",
       "<style scoped>\n",
       "    .dataframe tbody tr th:only-of-type {\n",
       "        vertical-align: middle;\n",
       "    }\n",
       "\n",
       "    .dataframe tbody tr th {\n",
       "        vertical-align: top;\n",
       "    }\n",
       "\n",
       "    .dataframe thead th {\n",
       "        text-align: right;\n",
       "    }\n",
       "</style>\n",
       "<table border=\"1\" class=\"dataframe\">\n",
       "  <thead>\n",
       "    <tr style=\"text-align: right;\">\n",
       "      <th></th>\n",
       "      <th>user_id</th>\n",
       "      <th>item_id</th>\n",
       "      <th>rating</th>\n",
       "      <th>timestamp</th>\n",
       "    </tr>\n",
       "  </thead>\n",
       "  <tbody>\n",
       "    <tr>\n",
       "      <th>count</th>\n",
       "      <td>100000.00000</td>\n",
       "      <td>100000.000000</td>\n",
       "      <td>100000.000000</td>\n",
       "      <td>1.000000e+05</td>\n",
       "    </tr>\n",
       "    <tr>\n",
       "      <th>mean</th>\n",
       "      <td>462.48475</td>\n",
       "      <td>425.530130</td>\n",
       "      <td>3.529860</td>\n",
       "      <td>8.835289e+08</td>\n",
       "    </tr>\n",
       "    <tr>\n",
       "      <th>std</th>\n",
       "      <td>266.61442</td>\n",
       "      <td>330.798356</td>\n",
       "      <td>1.125674</td>\n",
       "      <td>5.343856e+06</td>\n",
       "    </tr>\n",
       "    <tr>\n",
       "      <th>min</th>\n",
       "      <td>1.00000</td>\n",
       "      <td>1.000000</td>\n",
       "      <td>1.000000</td>\n",
       "      <td>8.747247e+08</td>\n",
       "    </tr>\n",
       "    <tr>\n",
       "      <th>25%</th>\n",
       "      <td>254.00000</td>\n",
       "      <td>175.000000</td>\n",
       "      <td>3.000000</td>\n",
       "      <td>8.794487e+08</td>\n",
       "    </tr>\n",
       "    <tr>\n",
       "      <th>50%</th>\n",
       "      <td>447.00000</td>\n",
       "      <td>322.000000</td>\n",
       "      <td>4.000000</td>\n",
       "      <td>8.828269e+08</td>\n",
       "    </tr>\n",
       "    <tr>\n",
       "      <th>75%</th>\n",
       "      <td>682.00000</td>\n",
       "      <td>631.000000</td>\n",
       "      <td>4.000000</td>\n",
       "      <td>8.882600e+08</td>\n",
       "    </tr>\n",
       "    <tr>\n",
       "      <th>max</th>\n",
       "      <td>943.00000</td>\n",
       "      <td>1682.000000</td>\n",
       "      <td>5.000000</td>\n",
       "      <td>8.932866e+08</td>\n",
       "    </tr>\n",
       "  </tbody>\n",
       "</table>\n",
       "</div>"
      ],
      "text/plain": [
       "            user_id        item_id         rating     timestamp\n",
       "count  100000.00000  100000.000000  100000.000000  1.000000e+05\n",
       "mean      462.48475     425.530130       3.529860  8.835289e+08\n",
       "std       266.61442     330.798356       1.125674  5.343856e+06\n",
       "min         1.00000       1.000000       1.000000  8.747247e+08\n",
       "25%       254.00000     175.000000       3.000000  8.794487e+08\n",
       "50%       447.00000     322.000000       4.000000  8.828269e+08\n",
       "75%       682.00000     631.000000       4.000000  8.882600e+08\n",
       "max       943.00000    1682.000000       5.000000  8.932866e+08"
      ]
     },
     "execution_count": 7,
     "metadata": {},
     "output_type": "execute_result"
    }
   ],
   "source": [
    "df.describe()"
   ]
  },
  {
   "cell_type": "code",
   "execution_count": 8,
   "id": "3ebffe03",
   "metadata": {},
   "outputs": [
    {
     "data": {
      "text/plain": [
       "user_id            943\n",
       "item_id           1682\n",
       "rating               5\n",
       "timestamp    893286638\n",
       "dtype: int64"
      ]
     },
     "execution_count": 8,
     "metadata": {},
     "output_type": "execute_result"
    }
   ],
   "source": [
    "df.max()"
   ]
  },
  {
   "cell_type": "code",
   "execution_count": 9,
   "id": "7c7533e4",
   "metadata": {},
   "outputs": [
    {
     "data": {
      "text/plain": [
       "user_id              1\n",
       "item_id              1\n",
       "rating               1\n",
       "timestamp    874724710\n",
       "dtype: int64"
      ]
     },
     "execution_count": 9,
     "metadata": {},
     "output_type": "execute_result"
    }
   ],
   "source": [
    "df.min()"
   ]
  },
  {
   "cell_type": "code",
   "execution_count": 10,
   "id": "4ad13c39",
   "metadata": {},
   "outputs": [],
   "source": [
    "sns.set_style('whitegrid')"
   ]
  },
  {
   "cell_type": "code",
   "execution_count": 11,
   "id": "e714bf6a",
   "metadata": {},
   "outputs": [
    {
     "name": "stdout",
     "output_type": "stream",
     "text": [
      "COntoh 5 basis pertama data frame\n",
      "   user_id  item_id  rating  timestamp\n",
      "0      196      242       3  881250949\n",
      "1      186      302       3  891717742\n",
      "2       22      377       1  878887116\n",
      "3      244       51       2  880606923\n",
      "4      166      346       1  886397596\n",
      "----------------------------------------\n"
     ]
    }
   ],
   "source": [
    "print(\"COntoh 5 basis pertama data frame\")\n",
    "print(df.head())\n",
    "print(\"-\" * 40)"
   ]
  },
  {
   "cell_type": "code",
   "execution_count": 12,
   "id": "6be2f76f",
   "metadata": {},
   "outputs": [
    {
     "name": "stdout",
     "output_type": "stream",
     "text": [
      "Jumlah Pengguna Unik: 943\n",
      "Jumlah Item (Film) Unik: 1682\n",
      "Jumlah Total Rating yang Diberikan: 100000\n",
      "----------------------------------------\n"
     ]
    }
   ],
   "source": [
    "n_users = df['user_id'].nunique()\n",
    "n_items = df['item_id'].nunique()\n",
    "n_ratings = len(df)\n",
    "\n",
    "\n",
    "print(f\"Jumlah Pengguna Unik: {n_users}\")\n",
    "print(f\"Jumlah Item (Film) Unik: {n_items}\")\n",
    "print(f\"Jumlah Total Rating yang Diberikan: {n_ratings}\")\n",
    "print(\"-\" * 40)"
   ]
  },
  {
   "cell_type": "code",
   "execution_count": 13,
   "id": "7d2ed44e",
   "metadata": {},
   "outputs": [
    {
     "name": "stderr",
     "output_type": "stream",
     "text": [
      "C:\\Users\\Bintang Purnama\\AppData\\Local\\Temp\\ipykernel_22100\\3082601344.py:3: FutureWarning: \n",
      "\n",
      "Passing `palette` without assigning `hue` is deprecated and will be removed in v0.14.0. Assign the `x` variable to `hue` and set `legend=False` for the same effect.\n",
      "\n",
      "  sns.countplot(x='rating',data=df,palette='viridis')\n"
     ]
    },
    {
     "data": {
      "image/png": "[encoded data removed]",
      "text/plain": [
       "<Figure size 1000x600 with 1 Axes>"
      ]
     },
     "metadata": {},
     "output_type": "display_data"
    }
   ],
   "source": [
    "#distrubusi rating\n",
    "plt.figure(figsize=(10,6))\n",
    "sns.countplot(x='rating',data=df,palette='viridis')\n",
    "plt.title('Distribusi Rating Film', fontsize=16)\n",
    "plt.xlabel('Rating',fontsize=12)\n",
    "plt.ylabel('Jumlah Orang',fontsize=12)\n",
    "# plt.savefig('distribusi_rating.png') # Anda bisa simpan gambar jika mau\n",
    "plt.show()"
   ]
  },
  {
   "cell_type": "code",
   "execution_count": 14,
   "id": "870e3270",
   "metadata": {},
   "outputs": [
    {
     "name": "stderr",
     "output_type": "stream",
     "text": [
      "C:\\Users\\Bintang Purnama\\AppData\\Local\\Temp\\ipykernel_22100\\1495389814.py:6: FutureWarning: \n",
      "\n",
      "Passing `palette` without assigning `hue` is deprecated and will be removed in v0.14.0. Assign the `x` variable to `hue` and set `legend=False` for the same effect.\n",
      "\n",
      "  sns.barplot(x=item_counts.index, y= item_counts.values , palette= 'mako', order=item_counts.index)\n"
     ]
    },
    {
     "data": {
      "image/png": "[encoded data removed]",
      "text/plain": [
       "<Figure size 1200x800 with 1 Axes>"
      ]
     },
     "metadata": {},
     "output_type": "display_data"
    }
   ],
   "source": [
    "# Visualisasi Top 10 Item Paling Banyak Diberi Rating ---\n",
    "# Karena kita tidak punya judul, kita akan melihat berdasarkan item_id\n",
    "plt.figure(figsize=(12,8))\n",
    "item_counts = df['item_id'].value_counts().head(10)\n",
    "\n",
    "sns.barplot(x=item_counts.index, y= item_counts.values , palette= 'mako', order=item_counts.index)\n",
    "plt.title('Top 10 ID dengan rating terbanyak', fontsize=16)\n",
    "plt.xlabel('Item ID', fontsize=12)\n",
    "plt.ylabel('Jumlah Rating', fontsize=12)\n",
    "plt.xticks(rotation=45)# Putar label ID agar tidak tumpang tindih\n",
    "# plt.savefig('top_10_item_id.png')\n",
    "plt.show()"
   ]
  },
  {
   "cell_type": "markdown",
   "id": "d792e52e",
   "metadata": {},
   "source": [
    "#DATA PREPARATION"
   ]
  },
  {
   "cell_type": "code",
   "execution_count": 15,
   "id": "db09571e",
   "metadata": {},
   "outputs": [
    {
     "name": "stdout",
     "output_type": "stream",
     "text": [
      "\n",
      "Data berhasil diubah ke format 'surprise'. Siap untuk modeling!\n"
     ]
    }
   ],
   "source": [
    "# --- 1. Memuat Data (Anda bisa gabungkan dengan kode EDA di atas) ---\n",
    "# Kita anggap 'ratings_df' sudah ada dari langkah EDA sebelumnya\n",
    "# ratings_df = pd.read_csv('u.data', sep='\\t', names=['user_id', 'item_id', 'rating', 'timestamp'])\n",
    "\n",
    "# --- 2. Persiapan untuk Library Surprise ---\n",
    "# Buat 'Reader' untuk memberitahu surprise skala rating kita (yaitu 1 sampai 5)\n",
    "reader = Reader(rating_scale=(1,5))\n",
    "\n",
    "# Muat data dari DataFrame pandas ke dalam format Dataset surprise\n",
    "# Kita hanya butuh 3 kolom: user, item, dan rating\n",
    "data = Dataset.load_from_df(df[['user_id', 'item_id', 'rating']], reader)\n",
    "\n",
    "# Cek bahwa data berhasil dimuat\n",
    "print(\"\\nData berhasil diubah ke format 'surprise'. Siap untuk modeling!\")\n",
    "# 'data' adalah variabel yang akan Anda gunakan untuk melatih model"
   ]
  },
  {
   "cell_type": "code",
   "execution_count": 16,
   "id": "07594519",
   "metadata": {},
   "outputs": [],
   "source": [
    "#Memisahkan data : 80% untuk training m dan 20% untuk testing\n",
    "trainset,testset = train_test_split(data, test_size=0.2)"
   ]
  },
  {
   "cell_type": "code",
   "execution_count": 17,
   "id": "605827ad",
   "metadata": {},
   "outputs": [
    {
     "name": "stdout",
     "output_type": "stream",
     "text": [
      "Melatih model SVD...\n",
      "Model selesai dilatih!\n"
     ]
    }
   ],
   "source": [
    "model = SVD()  # Inisialisasi model SVD\n",
    "\n",
    "# Latih model menggunakan training set\n",
    "print(\"Melatih model SVD...\")\n",
    "model.fit(trainset)\n",
    "print(\"Model selesai dilatih!\")"
   ]
  },
  {
   "cell_type": "code",
   "execution_count": 21,
   "id": "1086b55c",
   "metadata": {},
   "outputs": [
    {
     "name": "stdout",
     "output_type": "stream",
     "text": [
      "\n",
      "Mengevaluasi model...\n",
      "RMSE: 0.9411\n",
      "Nilai RMSE pada test set adalah: 0.9411\n"
     ]
    }
   ],
   "source": [
    "# Hitung dan cetak Root Mean Squared Error (RMSE)\n",
    "# RMSE mengukur seberapa jauh rata-rata prediksi kita meleset dari rating sebenarnya.\n",
    "# Semakin kecil nilainya, semakin bagus.\n",
    "predictions = model.test(testset)\n",
    "print(\"\\nMengevaluasi model...\")\n",
    "rmse = accuracy.rmse(predictions)\n",
    "print(f\"Nilai RMSE pada test set adalah: {rmse:.4f}\")"
   ]
  },
  {
   "cell_type": "code",
   "execution_count": 19,
   "id": "8b36bc1d",
   "metadata": {},
   "outputs": [
    {
     "name": "stdout",
     "output_type": "stream",
     "text": [
      "\n",
      "Contoh prediksi tunggal: 4.18\n"
     ]
    }
   ],
   "source": [
    "# Contoh melihat satu prediksi spesifik\n",
    "# Prediksi rating dari user ID '196' untuk item ID '302'\n",
    "prediksi_tunggal = model.predict(uid=196, iid=302)\n",
    "print(f\"\\nContoh prediksi tunggal: {prediksi_tunggal.est:.2f}\")"
   ]
  },
  {
   "cell_type": "markdown",
   "id": "c121724a",
   "metadata": {},
   "source": [
    "Cross-Validation: Cara evaluasi yang lebih kuat daripada sekadar satu kali train_test_split. Data akan dibagi menjadi beberapa \"lipatan\" (misalnya 5), dan model akan dilatih dan diuji sebanyak 5 kali, memastikan hasilnya lebih stabil.\n",
    "\n",
    "Grid Search: \"Robot\" yang akan mencoba semua kombinasi parameter yang kita berikan dan melaporkan mana yang paling bagus."
   ]
  },
  {
   "cell_type": "code",
   "execution_count": 22,
   "id": "4a884bbf",
   "metadata": {},
   "outputs": [],
   "source": [
    "from surprise.model_selection import GridSearchCV\n",
    "\n",
    "# --- 4.1. Tentukan \"Kisi-kisi\" Parameter ---\n",
    "# Ini adalah daftar parameter dan nilai yang ingin kita coba\n",
    "param_grid = {\n",
    "    'n_factors': [50, 100],      # Jumlah faktor laten\n",
    "    'n_epochs': [20, 30],         # Jumlah iterasi (epoch)\n",
    "    'lr_all': [0.005, 0.010],     # Learning rate\n",
    "    'reg_all': [0.02, 0.1]        # Faktor regularisasi\n",
    "}"
   ]
  },
  {
   "cell_type": "code",
   "execution_count": 23,
   "id": "d38e349d",
   "metadata": {},
   "outputs": [
    {
     "name": "stdout",
     "output_type": "stream",
     "text": [
      "\n",
      "Memulai proses Grid Search untuk tuning parameter...\n"
     ]
    }
   ],
   "source": [
    "# --- 4.2. Siapkan dan Jalankan GridSearchCV ---\n",
    "# Kita akan mencari kombinasi terbaik berdasarkan RMSE, menggunakan 3-fold cross-validation (cv=3)\n",
    "# joblib_verbose=5 agar proses pencariannya ditampilkan dengan detail\n",
    "print(\"\\nMemulai proses Grid Search untuk tuning parameter...\")\n",
    "gs = GridSearchCV(SVD, param_grid, measures=['rmse'], cv=3, joblib_verbose=5)"
   ]
  },
  {
   "cell_type": "code",
   "execution_count": 24,
   "id": "d0711a35",
   "metadata": {},
   "outputs": [
    {
     "name": "stderr",
     "output_type": "stream",
     "text": [
      "[Parallel(n_jobs=1)]: Done  17 tasks      | elapsed:    8.7s\n"
     ]
    }
   ],
   "source": [
    "gs.fit(data)"
   ]
  },
  {
   "cell_type": "code",
   "execution_count": 25,
   "id": "9021c302",
   "metadata": {},
   "outputs": [
    {
     "name": "stdout",
     "output_type": "stream",
     "text": [
      "\n",
      "Hasil Grid Search selesai!\n",
      "Skor RMSE terbaik: 0.9215\n"
     ]
    }
   ],
   "source": [
    "#cetak skor RMSE terbaik dan parameter yang digunakan\n",
    "print(f\"\\nHasil Grid Search selesai!\")\n",
    "print(f\"Skor RMSE terbaik: {gs.best_score['rmse']:.4f}\")"
   ]
  },
  {
   "cell_type": "code",
   "execution_count": 26,
   "id": "077bfa55",
   "metadata": {},
   "outputs": [
    {
     "name": "stdout",
     "output_type": "stream",
     "text": [
      "Kombinasi parameter terbaik adalah:\n",
      "{'n_factors': 100, 'n_epochs': 30, 'lr_all': 0.01, 'reg_all': 0.1}\n"
     ]
    }
   ],
   "source": [
    "# Cetak kombinasi parameter yang menghasilkan skor terbaik\n",
    "print(\"Kombinasi parameter terbaik adalah:\")\n",
    "print(gs.best_params['rmse'])"
   ]
  },
  {
   "cell_type": "code",
   "execution_count": 27,
   "id": "6fcf0d4f",
   "metadata": {},
   "outputs": [
    {
     "data": {
      "text/plain": [
       "<surprise.prediction_algorithms.matrix_factorization.SVD at 0x2f4cf2a6ed0>"
      ]
     },
     "execution_count": 27,
     "metadata": {},
     "output_type": "execute_result"
    }
   ],
   "source": [
    "# Anda bisa melatih model final dengan parameter terbaik ini\n",
    "model_terbaik = gs.best_estimator['rmse']\n",
    "model_terbaik.fit(data.build_full_trainset())"
   ]
  },
  {
   "cell_type": "code",
   "execution_count": 28,
   "id": "1322d208",
   "metadata": {},
   "outputs": [],
   "source": [
    "import pickle"
   ]
  },
  {
   "cell_type": "code",
   "execution_count": 29,
   "id": "9334dd44",
   "metadata": {},
   "outputs": [
    {
     "name": "stdout",
     "output_type": "stream",
     "text": [
      "Model berhasil disimpan ke file: recommendation_model.pkl\n"
     ]
    }
   ],
   "source": [
    "# --- 3. Simpan Model ke File ---\n",
    "model_filename = 'recommendation_model.pkl'\n",
    "with open(model_filename, 'wb') as f:\n",
    "    pickle.dump(model, f)\n",
    "\n",
    "print(f\"Model berhasil disimpan ke file: {model_filename}\")"
   ]
  },
  {
   "cell_type": "code",
   "execution_count": 31,
   "id": "853e191e",
   "metadata": {},
   "outputs": [
    {
     "name": "stdout",
     "output_type": "stream",
     "text": [
      "Menyimpan data judul film...\n",
      "Judul film berhasil disimpan ke file: movie_titles.pkl\n"
     ]
    }
   ],
   "source": [
    "# Lanjutan dari script di atas...\n",
    "\n",
    "# --- 4. Siapkan dan Simpan Judul Film ---\n",
    "print(\"Menyimpan data judul film...\")\n",
    "# Muat data film dari file u.item\n",
    "item='ml-100k/u.item'\n",
    "movies_df = pd.read_csv(item, sep='|', encoding='latin-1', header=None,\n",
    "                        names=['item_id', 'title', 'release_date', 'video_release_date', 'imdb_url'] + [f'genre_{i}' for i in range(19)])\n",
    "\n",
    "# Buat kamus: {item_id: title}\n",
    "movie_titles = movies_df[['item_id', 'title']].set_index('item_id').to_dict()['title']\n",
    "\n",
    "titles_filename = 'movie_titles.pkl'\n",
    "with open(titles_filename, 'wb') as f:\n",
    "    pickle.dump(movie_titles, f)\n",
    "\n",
    "print(f\"Judul film berhasil disimpan ke file: {titles_filename}\")"
   ]
  },
  {
   "cell_type": "code",
   "execution_count": null,
   "id": "87496bc6",
   "metadata": {},
   "outputs": [],
   "source": []
  }
 ],
 "metadata": {
  "kernelspec": {
   "display_name": "base",
   "language": "python",
   "name": "python3"
  },
  "language_info": {
   "codemirror_mode": {
    "name": "ipython",
    "version": 3
   },
   "file_extension": ".py",
   "mimetype": "text/x-python",
   "name": "python",
   "nbconvert_exporter": "python",
   "pygments_lexer": "ipython3",
   "version": "3.11.5"
  }
 },
 "nbformat": 4,
 "nbformat_minor": 5
}
